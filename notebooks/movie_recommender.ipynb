{
 "cells": [
  {
   "cell_type": "code",
   "execution_count": null,
   "metadata": {},
   "outputs": [],
   "source": [
    "# Import required libraries\n",
    "import pandas as pd\n",
    "from IPython.display import display\n",
    "import ipywidgets as widgets\n",
    "from ipywidgets import interact\n",
    "\n",
    "# Import the recommendation engine functions\n",
    "# Note: adjust the path if necessary (ensure your working directory is set to the project root)\n",
    "from src.recommendation_engine import load_data, recommend_movies\n"
   ]
  },
  {
   "cell_type": "code",
   "execution_count": null,
   "metadata": {},
   "outputs": [],
   "source": [
    "# Load the movies dataset\n",
    "data = load_data(\"data/movies.csv\")\n",
    "# Display the first few rows to verify it loaded correctly\n",
    "display(data.head())\n"
   ]
  },
  {
   "cell_type": "code",
   "execution_count": null,
   "metadata": {},
   "outputs": [],
   "source": [
    "# Extract unique genres from the 'genre' column\n",
    "genres = set()\n",
    "for g in data['genre'].dropna():\n",
    "    for genre in g.split(','):\n",
    "        genres.add(genre.strip())\n",
    "\n",
    "# Convert to a sorted list\n",
    "genres = sorted(list(genres))\n",
    "print(\"Available Genres:\", genres)\n"
   ]
  },
  {
   "cell_type": "code",
   "execution_count": null,
   "metadata": {},
   "outputs": [],
   "source": [
    "# Define a function to display recommendations based on the selected genre\n",
    "def show_recommendations(selected_genre):\n",
    "    recs = recommend_movies(selected_genre, data)\n",
    "    print(f\"\\nRecommended Movies for Genre: {selected_genre}\")\n",
    "    display(recs[['title', 'genre']])  # Adjust columns as needed\n",
    "\n",
    "# Create an interactive dropdown widget\n",
    "interact(show_recommendations, selected_genre=widgets.Dropdown(options=genres, description='Genre:'));\n"
   ]
  }
 ],
 "metadata": {
  "kernelspec": {
   "display_name": "Python 3",
   "language": "python",
   "name": "python3"
  },
  "language_info": {
   "name": "python",
   "version": "3.13.0"
  }
 },
 "nbformat": 4,
 "nbformat_minor": 2
}
